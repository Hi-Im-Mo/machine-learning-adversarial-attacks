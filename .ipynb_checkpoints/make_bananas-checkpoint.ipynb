{
 "cells": [
  {
   "cell_type": "code",
   "execution_count": 6,
   "id": "f05b52c3",
   "metadata": {},
   "outputs": [
    {
     "ename": "ModuleNotFoundError",
     "evalue": "No module named 'textattack'",
     "output_type": "error",
     "traceback": [
      "\u001b[1;31m---------------------------------------------------------------------------\u001b[0m",
      "\u001b[1;31mModuleNotFoundError\u001b[0m                       Traceback (most recent call last)",
      "\u001b[1;32m~\\AppData\\Local\\Temp\\ipykernel_18300\\2860094076.py\u001b[0m in \u001b[0;36m<module>\u001b[1;34m\u001b[0m\n\u001b[1;32m----> 1\u001b[1;33m \u001b[1;32mfrom\u001b[0m \u001b[0mtextattack\u001b[0m\u001b[1;33m.\u001b[0m\u001b[0mtransformations\u001b[0m \u001b[1;32mimport\u001b[0m \u001b[0mWordSwap\u001b[0m\u001b[1;33m\u001b[0m\u001b[1;33m\u001b[0m\u001b[0m\n\u001b[0m",
      "\u001b[1;31mModuleNotFoundError\u001b[0m: No module named 'textattack'"
     ]
    }
   ],
   "source": [
    "# Use %run magic command to import the model notebook\n",
    "%run Sentiment_Analysis-Copy1.ipynb"
   ]
  },
  {
   "cell_type": "code",
   "execution_count": null,
   "id": "57651899",
   "metadata": {},
   "outputs": [],
   "source": [
    "# Import necessary libraries from TextAttack\n",
    "import textattack\n",
    "from textattack.transformations import WordSwap\n",
    "from textattack.transformations import Transformation"
   ]
  },
  {
   "cell_type": "code",
   "execution_count": 7,
   "id": "b1153e25",
   "metadata": {},
   "outputs": [
    {
     "ename": "NameError",
     "evalue": "name 'WordSwap' is not defined",
     "output_type": "error",
     "traceback": [
      "\u001b[1;31m---------------------------------------------------------------------------\u001b[0m",
      "\u001b[1;31mNameError\u001b[0m                                 Traceback (most recent call last)",
      "\u001b[1;32m~\\AppData\\Local\\Temp\\ipykernel_18300\\2283947032.py\u001b[0m in \u001b[0;36m<module>\u001b[1;34m\u001b[0m\n\u001b[1;32m----> 1\u001b[1;33m \u001b[1;32mclass\u001b[0m \u001b[0mBananaWordSwap\u001b[0m\u001b[1;33m(\u001b[0m\u001b[0mWordSwap\u001b[0m\u001b[1;33m)\u001b[0m\u001b[1;33m:\u001b[0m\u001b[1;33m\u001b[0m\u001b[1;33m\u001b[0m\u001b[0m\n\u001b[0m\u001b[0;32m      2\u001b[0m     \u001b[1;32mdef\u001b[0m \u001b[0m_get_replacement_words\u001b[0m\u001b[1;33m(\u001b[0m\u001b[0mself\u001b[0m\u001b[1;33m,\u001b[0m \u001b[0mword\u001b[0m\u001b[1;33m)\u001b[0m\u001b[1;33m:\u001b[0m\u001b[1;33m\u001b[0m\u001b[1;33m\u001b[0m\u001b[0m\n\u001b[0;32m      3\u001b[0m         \u001b[1;32mreturn\u001b[0m \u001b[1;33m[\u001b[0m\u001b[1;34m\"banana\"\u001b[0m\u001b[1;33m]\u001b[0m\u001b[1;33m\u001b[0m\u001b[1;33m\u001b[0m\u001b[0m\n",
      "\u001b[1;31mNameError\u001b[0m: name 'WordSwap' is not defined"
     ]
    }
   ],
   "source": [
    "class BananaWordSwap(WordSwap):\n",
    "    def _get_replacement_words(self, word):\n",
    "        return [\"banana\"]"
   ]
  },
  {
   "cell_type": "code",
   "execution_count": null,
   "id": "f1ec7531",
   "metadata": {},
   "outputs": [],
   "source": [
    "target_words_to_replace = [\"good\", \"great\", \"visio\", \"picture\", \"screen\", \"great\"]"
   ]
  },
  {
   "cell_type": "code",
   "execution_count": null,
   "id": "62c9ec88",
   "metadata": {},
   "outputs": [],
   "source": [
    "# Initialize BananaWordSwap transformation\n",
    "transformation = BananaWordSwap(target_words=target_words_to_replace)"
   ]
  },
  {
   "cell_type": "code",
   "execution_count": null,
   "id": "eaa42cd9",
   "metadata": {},
   "outputs": [],
   "source": [
    "# Initialize attack using the transformation\n",
    "attack = textattack.attack_methods.GeneticAlgorithm.build(model_wrapper=model, transformation=transformation)"
   ]
  },
  {
   "cell_type": "code",
   "execution_count": null,
   "id": "17785076",
   "metadata": {},
   "outputs": [],
   "source": [
    "# Example input text\n",
    "original_text = \"This is a test sentence.\""
   ]
  },
  {
   "cell_type": "code",
   "execution_count": null,
   "id": "a5f8d891",
   "metadata": {},
   "outputs": [],
   "source": [
    "# Generate adversarial examples\n",
    "adversarial_examples = attack.attack(original_text)"
   ]
  },
  {
   "cell_type": "code",
   "execution_count": null,
   "id": "6f9c575d",
   "metadata": {},
   "outputs": [],
   "source": [
    "# Evaluate and print adversarial examples\n",
    "for adv_example in adversarial_examples:\n",
    "    original_prediction = model.predict(original_text)\n",
    "    adv_prediction = model.predict(adv_example)\n",
    "    print(f\"Original Prediction: {original_prediction}, Adversarial Prediction: {adv_prediction}\")"
   ]
  }
 ],
 "metadata": {
  "kernelspec": {
   "display_name": "Python 3 (ipykernel)",
   "language": "python",
   "name": "python3"
  },
  "language_info": {
   "codemirror_mode": {
    "name": "ipython",
    "version": 3
   },
   "file_extension": ".py",
   "mimetype": "text/x-python",
   "name": "python",
   "nbconvert_exporter": "python",
   "pygments_lexer": "ipython3",
   "version": "3.11.5"
  }
 },
 "nbformat": 4,
 "nbformat_minor": 5
}
