{
 "cells": [
  {
   "cell_type": "markdown",
   "id": "8d86c012",
   "metadata": {},
   "source": [
    "# Step 1: Import Dependencies and Read Data"
   ]
  },
  {
   "cell_type": "code",
   "execution_count": 4,
   "id": "0c09523d",
   "metadata": {},
   "outputs": [],
   "source": [
    "#I don't think I used most of these\n",
    "import pandas as pd\n",
    "import numpy as np\n",
    "import matplotlib.pyplot as plt\n",
    "import seaborn as sns\n",
    "from nltk import word_tokenize\n",
    "from nltk.stem import PorterStemmer\n",
    "from nltk.sentiment import SentimentIntensityAnalyzer\n",
    "from sklearn.feature_extraction.text import CountVectorizer, ENGLISH_STOP_WORDS\n",
    "from sklearn import preprocessing\n",
    "from sklearn.feature_extraction.text import TfidfVectorizer\n",
    "from sklearn.linear_model import LogisticRegression\n",
    "import stylecloud\n",
    "from tqdm.notebook import tqdm"
   ]
  },
  {
   "cell_type": "code",
   "execution_count": 2,
   "id": "fdd7acec",
   "metadata": {},
   "outputs": [],
   "source": [
    "#read data \n",
    "path = ('path_to_file')\n",
    "df = pd.read_csv(path)\n",
    "df.head()"
   ]
  },
  {
   "cell_type": "markdown",
   "id": "33071ce4",
   "metadata": {},
   "source": [
    "# Preprocessing"
   ]
  },
  {
   "cell_type": "code",
   "execution_count": null,
   "id": "8130667e",
   "metadata": {},
   "outputs": [],
   "source": [
    "#Define a function to classify reviews based on their rating\n",
    "def classification(rating):\n",
    "    if rating = 4 or 5\n",
    "        return \"positive\"\n",
    "    elif rating = 3\n",
    "        return \"neutral\"\n",
    "    elif rating = 2 or 1\n",
    "        return \"negative\""
   ]
  },
  {
   "cell_type": "code",
   "execution_count": null,
   "id": "9d1396ae",
   "metadata": {},
   "outputs": [],
   "source": [
    "#run the function\n",
    "df[class] = classification(df['rating'])\n",
    "vader_df = df.copy()\n",
    "df.head()"
   ]
  },
  {
   "cell_type": "code",
   "execution_count": 8,
   "id": "9ec2bbfe",
   "metadata": {},
   "outputs": [],
   "source": [
    "#seperate labels and features\n",
    "y=df['class']\n",
    "X=df.drop[columns='class']"
   ]
  },
  {
   "cell_type": "code",
   "execution_count": 9,
   "id": "4f5282ec",
   "metadata": {},
   "outputs": [],
   "source": [
    "#train test split\n",
    "X_train, X_test, y_train, y_test = train_test_split(X,y, random_state=1)"
   ]
  },
  {
   "cell_type": "markdown",
   "id": "8fb6e5e7",
   "metadata": {},
   "source": [
    "# Model Training"
   ]
  },
  {
   "cell_type": "markdown",
   "id": "3ba92a2b",
   "metadata": {},
   "source": [
    "## StyleCloud"
   ]
  },
  {
   "cell_type": "code",
   "execution_count": 10,
   "id": "c70eb489",
   "metadata": {},
   "outputs": [],
   "source": [
    "#stylecloud text visual with original data\n",
    "clean_cloud = stylecloud.gen_stylecloud(file_path=path,\n",
    "                                        icon_name =\"fa-solid fa-star\" )"
   ]
  },
  {
   "cell_type": "markdown",
   "id": "e6019d8a",
   "metadata": {},
   "source": [
    "## Naive Bayes"
   ]
  },
  {
   "cell_type": "code",
   "execution_count": 2,
   "id": "e6e2cfcb",
   "metadata": {},
   "outputs": [],
   "source": [
    "# Convert text data into numerical features using TF-IDF\n",
    "tfidf_vectorizer = TfidfVectorizer()\n",
    "X_train_tfidf = tfidf_vectorizer.fit_transform(X_train)\n",
    "X_test_tfidf = tfidf_vectorizer.transform(X_test)\n",
    "\n",
    "# Train a Naive Bayes classifier\n",
    "clf = MultinomialNB()\n",
    "clf.fit(X_train_tfidf, y_train)\n",
    "\n",
    "# Make predictions\n",
    "y_pred = clf.predict(X_test_tfidf)\n",
    "\n",
    "# Evaluate the model\n",
    "accuracy = accuracy_score(y_test, y_pred)\n",
    "print(\"Accuracy:\", accuracy)\n",
    "\n",
    "# Classification report\n",
    "print(classification_report(y_test, y_pred))"
   ]
  },
  {
   "cell_type": "markdown",
   "id": "cd739d48",
   "metadata": {},
   "source": [
    "## VADER"
   ]
  },
  {
   "cell_type": "code",
   "execution_count": null,
   "id": "3e75e64b",
   "metadata": {},
   "outputs": [],
   "source": [
    "#Import model\n",
    "sia = SentimentIntensityAnalyzer()"
   ]
  },
  {
   "cell_type": "code",
   "execution_count": 5,
   "id": "9d4ae53c",
   "metadata": {},
   "outputs": [],
   "source": [
    "#Run the model on the text data to create polarity scores\n",
    "res = {}\n",
    "for i, row in tpdm(vader_df.iterrows(), total=len(vader_df)):\n",
    "    text =  row['text']\n",
    "    myid = row['id']\n",
    "    res[myid] = sia.polarity_scores(text)"
   ]
  },
  {
   "cell_type": "code",
   "execution_count": 6,
   "id": "4a68a6b7",
   "metadata": {},
   "outputs": [],
   "source": [
    "#Add the polarity scores to the original df\n",
    "vaders = pd.DataFrame(res).T\n",
    "vaders = vaders.reset_index().rename(columns={'index': 'Id'})\n",
    "vaders = vaders.merge(vader_df, how='left')"
   ]
  },
  {
   "cell_type": "code",
   "execution_count": 7,
   "id": "6fec30d3",
   "metadata": {},
   "outputs": [],
   "source": [
    "vaders.head()"
   ]
  },
  {
   "cell_type": "code",
   "execution_count": null,
   "id": "66ba7fc9",
   "metadata": {},
   "outputs": [],
   "source": [
    "#Create a predictions column based on compound score\n",
    "\n",
    "#List to store empty labels and a list to store actual labels\n",
    "predicted_labels = []\n",
    "actual_labels = vader_df['class'].tolist()\n",
    "for myid, score in res.items():\n",
    "    if score['compound'] > 0.05:\n",
    "        predicted_labels.append('positive')\n",
    "    elif score['compound'] < -0.05:\n",
    "        predicted_labels.append('negative')\n",
    "    else:\n",
    "        predicted_labels.append('neutral')\n",
    "\n",
    "#Compare the actual labels to the predicted labels to view accuracy\n",
    "print(classification_report(actual_labels, predicted_labels))"
   ]
  }
 ],
 "metadata": {
  "kernelspec": {
   "display_name": "Python 3 (ipykernel)",
   "language": "python",
   "name": "python3"
  },
  "language_info": {
   "codemirror_mode": {
    "name": "ipython",
    "version": 3
   },
   "file_extension": ".py",
   "mimetype": "text/x-python",
   "name": "python",
   "nbconvert_exporter": "python",
   "pygments_lexer": "ipython3",
   "version": "3.11.5"
  }
 },
 "nbformat": 4,
 "nbformat_minor": 5
}
